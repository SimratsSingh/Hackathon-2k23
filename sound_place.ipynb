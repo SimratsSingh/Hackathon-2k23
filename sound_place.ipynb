{
  "metadata": {
    "kernelspec": {
      "language": "python",
      "display_name": "Python 3",
      "name": "python3"
    },
    "language_info": {
      "pygments_lexer": "ipython3",
      "nbconvert_exporter": "python",
      "version": "3.6.4",
      "file_extension": ".py",
      "codemirror_mode": {
        "name": "ipython",
        "version": 3
      },
      "name": "python",
      "mimetype": "text/x-python"
    },
    "colab": {
      "provenance": []
    }
  },
  "nbformat_minor": 0,
  "nbformat": 4,
  "cells": [
    {
      "cell_type": "code",
      "source": [
        "from google.colab import drive\n",
        "drive.mount('/content/drive')"
      ],
      "metadata": {
        "colab": {
          "base_uri": "https://localhost:8080/"
        },
        "id": "Ves0J6owOKep",
        "outputId": "4db5ec47-528b-48d1-fb23-c0c66985586d"
      },
      "execution_count": 2,
      "outputs": [
        {
          "output_type": "stream",
          "name": "stdout",
          "text": [
            "Mounted at /content/drive\n"
          ]
        }
      ]
    },
    {
      "cell_type": "code",
      "source": [
        "import pandas as pd\n",
        "\n",
        "df = pd.read_csv(r'/content/drive/MyDrive/My/mxmh_survey_results.csv')\n",
        "df.head()"
      ],
      "metadata": {
        "_uuid": "8f2839f25d086af736a60e9eeb907d3b93b6e0e5",
        "_cell_guid": "b1076dfc-b9ad-4769-8c92-a6c4dae69d19",
        "execution": {
          "iopub.status.busy": "2022-12-25T04:12:40.747566Z",
          "iopub.execute_input": "2022-12-25T04:12:40.748031Z",
          "iopub.status.idle": "2022-12-25T04:12:40.850239Z",
          "shell.execute_reply.started": "2022-12-25T04:12:40.747943Z",
          "shell.execute_reply": "2022-12-25T04:12:40.849386Z"
        },
        "trusted": true,
        "colab": {
          "base_uri": "https://localhost:8080/",
          "height": 455
        },
        "id": "g303WZHTNZmr",
        "outputId": "d7222988-5a44-4a09-a182-46d421cee6b6"
      },
      "execution_count": 5,
      "outputs": [
        {
          "output_type": "execute_result",
          "data": {
            "text/plain": [
              "            Timestamp   Age Primary streaming service  Hours per day  \\\n",
              "0  8/27/2022 19:29:02  18.0                   Spotify            3.0   \n",
              "1  8/27/2022 19:57:31  63.0                   Pandora            1.5   \n",
              "2  8/27/2022 21:28:18  18.0                   Spotify            4.0   \n",
              "3  8/27/2022 21:40:40  61.0             YouTube Music            2.5   \n",
              "4  8/27/2022 21:54:47  18.0                   Spotify            4.0   \n",
              "\n",
              "  While working Instrumentalist Composer         Fav genre Exploratory  \\\n",
              "0           Yes             Yes      Yes             Latin         Yes   \n",
              "1           Yes              No       No              Rock         Yes   \n",
              "2            No              No       No  Video game music          No   \n",
              "3           Yes              No      Yes              Jazz         Yes   \n",
              "4           Yes              No       No               R&B         Yes   \n",
              "\n",
              "  Foreign languages  ...  Frequency [R&B]  Frequency [Rap] Frequency [Rock]  \\\n",
              "0               Yes  ...        Sometimes  Very frequently            Never   \n",
              "1                No  ...        Sometimes           Rarely  Very frequently   \n",
              "2               Yes  ...            Never           Rarely           Rarely   \n",
              "3               Yes  ...        Sometimes            Never            Never   \n",
              "4                No  ...  Very frequently  Very frequently            Never   \n",
              "\n",
              "  Frequency [Video game music] Anxiety Depression Insomnia  OCD Music effects  \\\n",
              "0                    Sometimes     3.0        0.0      1.0  0.0           NaN   \n",
              "1                       Rarely     7.0        2.0      2.0  1.0           NaN   \n",
              "2              Very frequently     7.0        7.0     10.0  2.0     No effect   \n",
              "3                        Never     9.0        7.0      3.0  3.0       Improve   \n",
              "4                       Rarely     7.0        2.0      5.0  9.0       Improve   \n",
              "\n",
              "     Permissions  \n",
              "0  I understand.  \n",
              "1  I understand.  \n",
              "2  I understand.  \n",
              "3  I understand.  \n",
              "4  I understand.  \n",
              "\n",
              "[5 rows x 33 columns]"
            ],
            "text/html": [
              "\n",
              "  <div id=\"df-e3475d4e-9eb1-4088-b13b-2d04db14a236\">\n",
              "    <div class=\"colab-df-container\">\n",
              "      <div>\n",
              "<style scoped>\n",
              "    .dataframe tbody tr th:only-of-type {\n",
              "        vertical-align: middle;\n",
              "    }\n",
              "\n",
              "    .dataframe tbody tr th {\n",
              "        vertical-align: top;\n",
              "    }\n",
              "\n",
              "    .dataframe thead th {\n",
              "        text-align: right;\n",
              "    }\n",
              "</style>\n",
              "<table border=\"1\" class=\"dataframe\">\n",
              "  <thead>\n",
              "    <tr style=\"text-align: right;\">\n",
              "      <th></th>\n",
              "      <th>Timestamp</th>\n",
              "      <th>Age</th>\n",
              "      <th>Primary streaming service</th>\n",
              "      <th>Hours per day</th>\n",
              "      <th>While working</th>\n",
              "      <th>Instrumentalist</th>\n",
              "      <th>Composer</th>\n",
              "      <th>Fav genre</th>\n",
              "      <th>Exploratory</th>\n",
              "      <th>Foreign languages</th>\n",
              "      <th>...</th>\n",
              "      <th>Frequency [R&amp;B]</th>\n",
              "      <th>Frequency [Rap]</th>\n",
              "      <th>Frequency [Rock]</th>\n",
              "      <th>Frequency [Video game music]</th>\n",
              "      <th>Anxiety</th>\n",
              "      <th>Depression</th>\n",
              "      <th>Insomnia</th>\n",
              "      <th>OCD</th>\n",
              "      <th>Music effects</th>\n",
              "      <th>Permissions</th>\n",
              "    </tr>\n",
              "  </thead>\n",
              "  <tbody>\n",
              "    <tr>\n",
              "      <th>0</th>\n",
              "      <td>8/27/2022 19:29:02</td>\n",
              "      <td>18.0</td>\n",
              "      <td>Spotify</td>\n",
              "      <td>3.0</td>\n",
              "      <td>Yes</td>\n",
              "      <td>Yes</td>\n",
              "      <td>Yes</td>\n",
              "      <td>Latin</td>\n",
              "      <td>Yes</td>\n",
              "      <td>Yes</td>\n",
              "      <td>...</td>\n",
              "      <td>Sometimes</td>\n",
              "      <td>Very frequently</td>\n",
              "      <td>Never</td>\n",
              "      <td>Sometimes</td>\n",
              "      <td>3.0</td>\n",
              "      <td>0.0</td>\n",
              "      <td>1.0</td>\n",
              "      <td>0.0</td>\n",
              "      <td>NaN</td>\n",
              "      <td>I understand.</td>\n",
              "    </tr>\n",
              "    <tr>\n",
              "      <th>1</th>\n",
              "      <td>8/27/2022 19:57:31</td>\n",
              "      <td>63.0</td>\n",
              "      <td>Pandora</td>\n",
              "      <td>1.5</td>\n",
              "      <td>Yes</td>\n",
              "      <td>No</td>\n",
              "      <td>No</td>\n",
              "      <td>Rock</td>\n",
              "      <td>Yes</td>\n",
              "      <td>No</td>\n",
              "      <td>...</td>\n",
              "      <td>Sometimes</td>\n",
              "      <td>Rarely</td>\n",
              "      <td>Very frequently</td>\n",
              "      <td>Rarely</td>\n",
              "      <td>7.0</td>\n",
              "      <td>2.0</td>\n",
              "      <td>2.0</td>\n",
              "      <td>1.0</td>\n",
              "      <td>NaN</td>\n",
              "      <td>I understand.</td>\n",
              "    </tr>\n",
              "    <tr>\n",
              "      <th>2</th>\n",
              "      <td>8/27/2022 21:28:18</td>\n",
              "      <td>18.0</td>\n",
              "      <td>Spotify</td>\n",
              "      <td>4.0</td>\n",
              "      <td>No</td>\n",
              "      <td>No</td>\n",
              "      <td>No</td>\n",
              "      <td>Video game music</td>\n",
              "      <td>No</td>\n",
              "      <td>Yes</td>\n",
              "      <td>...</td>\n",
              "      <td>Never</td>\n",
              "      <td>Rarely</td>\n",
              "      <td>Rarely</td>\n",
              "      <td>Very frequently</td>\n",
              "      <td>7.0</td>\n",
              "      <td>7.0</td>\n",
              "      <td>10.0</td>\n",
              "      <td>2.0</td>\n",
              "      <td>No effect</td>\n",
              "      <td>I understand.</td>\n",
              "    </tr>\n",
              "    <tr>\n",
              "      <th>3</th>\n",
              "      <td>8/27/2022 21:40:40</td>\n",
              "      <td>61.0</td>\n",
              "      <td>YouTube Music</td>\n",
              "      <td>2.5</td>\n",
              "      <td>Yes</td>\n",
              "      <td>No</td>\n",
              "      <td>Yes</td>\n",
              "      <td>Jazz</td>\n",
              "      <td>Yes</td>\n",
              "      <td>Yes</td>\n",
              "      <td>...</td>\n",
              "      <td>Sometimes</td>\n",
              "      <td>Never</td>\n",
              "      <td>Never</td>\n",
              "      <td>Never</td>\n",
              "      <td>9.0</td>\n",
              "      <td>7.0</td>\n",
              "      <td>3.0</td>\n",
              "      <td>3.0</td>\n",
              "      <td>Improve</td>\n",
              "      <td>I understand.</td>\n",
              "    </tr>\n",
              "    <tr>\n",
              "      <th>4</th>\n",
              "      <td>8/27/2022 21:54:47</td>\n",
              "      <td>18.0</td>\n",
              "      <td>Spotify</td>\n",
              "      <td>4.0</td>\n",
              "      <td>Yes</td>\n",
              "      <td>No</td>\n",
              "      <td>No</td>\n",
              "      <td>R&amp;B</td>\n",
              "      <td>Yes</td>\n",
              "      <td>No</td>\n",
              "      <td>...</td>\n",
              "      <td>Very frequently</td>\n",
              "      <td>Very frequently</td>\n",
              "      <td>Never</td>\n",
              "      <td>Rarely</td>\n",
              "      <td>7.0</td>\n",
              "      <td>2.0</td>\n",
              "      <td>5.0</td>\n",
              "      <td>9.0</td>\n",
              "      <td>Improve</td>\n",
              "      <td>I understand.</td>\n",
              "    </tr>\n",
              "  </tbody>\n",
              "</table>\n",
              "<p>5 rows × 33 columns</p>\n",
              "</div>\n",
              "      <button class=\"colab-df-convert\" onclick=\"convertToInteractive('df-e3475d4e-9eb1-4088-b13b-2d04db14a236')\"\n",
              "              title=\"Convert this dataframe to an interactive table.\"\n",
              "              style=\"display:none;\">\n",
              "        \n",
              "  <svg xmlns=\"http://www.w3.org/2000/svg\" height=\"24px\"viewBox=\"0 0 24 24\"\n",
              "       width=\"24px\">\n",
              "    <path d=\"M0 0h24v24H0V0z\" fill=\"none\"/>\n",
              "    <path d=\"M18.56 5.44l.94 2.06.94-2.06 2.06-.94-2.06-.94-.94-2.06-.94 2.06-2.06.94zm-11 1L8.5 8.5l.94-2.06 2.06-.94-2.06-.94L8.5 2.5l-.94 2.06-2.06.94zm10 10l.94 2.06.94-2.06 2.06-.94-2.06-.94-.94-2.06-.94 2.06-2.06.94z\"/><path d=\"M17.41 7.96l-1.37-1.37c-.4-.4-.92-.59-1.43-.59-.52 0-1.04.2-1.43.59L10.3 9.45l-7.72 7.72c-.78.78-.78 2.05 0 2.83L4 21.41c.39.39.9.59 1.41.59.51 0 1.02-.2 1.41-.59l7.78-7.78 2.81-2.81c.8-.78.8-2.07 0-2.86zM5.41 20L4 18.59l7.72-7.72 1.47 1.35L5.41 20z\"/>\n",
              "  </svg>\n",
              "      </button>\n",
              "      \n",
              "  <style>\n",
              "    .colab-df-container {\n",
              "      display:flex;\n",
              "      flex-wrap:wrap;\n",
              "      gap: 12px;\n",
              "    }\n",
              "\n",
              "    .colab-df-convert {\n",
              "      background-color: #E8F0FE;\n",
              "      border: none;\n",
              "      border-radius: 50%;\n",
              "      cursor: pointer;\n",
              "      display: none;\n",
              "      fill: #1967D2;\n",
              "      height: 32px;\n",
              "      padding: 0 0 0 0;\n",
              "      width: 32px;\n",
              "    }\n",
              "\n",
              "    .colab-df-convert:hover {\n",
              "      background-color: #E2EBFA;\n",
              "      box-shadow: 0px 1px 2px rgba(60, 64, 67, 0.3), 0px 1px 3px 1px rgba(60, 64, 67, 0.15);\n",
              "      fill: #174EA6;\n",
              "    }\n",
              "\n",
              "    [theme=dark] .colab-df-convert {\n",
              "      background-color: #3B4455;\n",
              "      fill: #D2E3FC;\n",
              "    }\n",
              "\n",
              "    [theme=dark] .colab-df-convert:hover {\n",
              "      background-color: #434B5C;\n",
              "      box-shadow: 0px 1px 3px 1px rgba(0, 0, 0, 0.15);\n",
              "      filter: drop-shadow(0px 1px 2px rgba(0, 0, 0, 0.3));\n",
              "      fill: #FFFFFF;\n",
              "    }\n",
              "  </style>\n",
              "\n",
              "      <script>\n",
              "        const buttonEl =\n",
              "          document.querySelector('#df-e3475d4e-9eb1-4088-b13b-2d04db14a236 button.colab-df-convert');\n",
              "        buttonEl.style.display =\n",
              "          google.colab.kernel.accessAllowed ? 'block' : 'none';\n",
              "\n",
              "        async function convertToInteractive(key) {\n",
              "          const element = document.querySelector('#df-e3475d4e-9eb1-4088-b13b-2d04db14a236');\n",
              "          const dataTable =\n",
              "            await google.colab.kernel.invokeFunction('convertToInteractive',\n",
              "                                                     [key], {});\n",
              "          if (!dataTable) return;\n",
              "\n",
              "          const docLinkHtml = 'Like what you see? Visit the ' +\n",
              "            '<a target=\"_blank\" href=https://colab.research.google.com/notebooks/data_table.ipynb>data table notebook</a>'\n",
              "            + ' to learn more about interactive tables.';\n",
              "          element.innerHTML = '';\n",
              "          dataTable['output_type'] = 'display_data';\n",
              "          await google.colab.output.renderOutput(dataTable, element);\n",
              "          const docLink = document.createElement('div');\n",
              "          docLink.innerHTML = docLinkHtml;\n",
              "          element.appendChild(docLink);\n",
              "        }\n",
              "      </script>\n",
              "    </div>\n",
              "  </div>\n",
              "  "
            ]
          },
          "metadata": {},
          "execution_count": 5
        }
      ]
    },
    {
      "cell_type": "code",
      "source": [
        "df.info()"
      ],
      "metadata": {
        "execution": {
          "iopub.status.busy": "2022-12-25T04:12:40.851909Z",
          "iopub.execute_input": "2022-12-25T04:12:40.852781Z",
          "iopub.status.idle": "2022-12-25T04:12:40.88106Z",
          "shell.execute_reply.started": "2022-12-25T04:12:40.852747Z",
          "shell.execute_reply": "2022-12-25T04:12:40.879559Z"
        },
        "trusted": true,
        "colab": {
          "base_uri": "https://localhost:8080/"
        },
        "id": "4XltKrcwNZms",
        "outputId": "2cb63dc2-df18-4981-8f30-d0f712bfad60"
      },
      "execution_count": 6,
      "outputs": [
        {
          "output_type": "stream",
          "name": "stdout",
          "text": [
            "<class 'pandas.core.frame.DataFrame'>\n",
            "RangeIndex: 736 entries, 0 to 735\n",
            "Data columns (total 33 columns):\n",
            " #   Column                        Non-Null Count  Dtype  \n",
            "---  ------                        --------------  -----  \n",
            " 0   Timestamp                     736 non-null    object \n",
            " 1   Age                           735 non-null    float64\n",
            " 2   Primary streaming service     735 non-null    object \n",
            " 3   Hours per day                 736 non-null    float64\n",
            " 4   While working                 733 non-null    object \n",
            " 5   Instrumentalist               732 non-null    object \n",
            " 6   Composer                      735 non-null    object \n",
            " 7   Fav genre                     736 non-null    object \n",
            " 8   Exploratory                   736 non-null    object \n",
            " 9   Foreign languages             732 non-null    object \n",
            " 10  BPM                           629 non-null    float64\n",
            " 11  Frequency [Classical]         736 non-null    object \n",
            " 12  Frequency [Country]           736 non-null    object \n",
            " 13  Frequency [EDM]               736 non-null    object \n",
            " 14  Frequency [Folk]              736 non-null    object \n",
            " 15  Frequency [Gospel]            736 non-null    object \n",
            " 16  Frequency [Hip hop]           736 non-null    object \n",
            " 17  Frequency [Jazz]              736 non-null    object \n",
            " 18  Frequency [K pop]             736 non-null    object \n",
            " 19  Frequency [Latin]             736 non-null    object \n",
            " 20  Frequency [Lofi]              736 non-null    object \n",
            " 21  Frequency [Metal]             736 non-null    object \n",
            " 22  Frequency [Pop]               736 non-null    object \n",
            " 23  Frequency [R&B]               736 non-null    object \n",
            " 24  Frequency [Rap]               736 non-null    object \n",
            " 25  Frequency [Rock]              736 non-null    object \n",
            " 26  Frequency [Video game music]  736 non-null    object \n",
            " 27  Anxiety                       736 non-null    float64\n",
            " 28  Depression                    736 non-null    float64\n",
            " 29  Insomnia                      736 non-null    float64\n",
            " 30  OCD                           736 non-null    float64\n",
            " 31  Music effects                 728 non-null    object \n",
            " 32  Permissions                   736 non-null    object \n",
            "dtypes: float64(7), object(26)\n",
            "memory usage: 189.9+ KB\n"
          ]
        }
      ]
    },
    {
      "cell_type": "markdown",
      "source": [
        "# Cleaning"
      ],
      "metadata": {
        "id": "XLiA7kAaNZmu"
      }
    },
    {
      "cell_type": "code",
      "source": [
        "# round all values\n",
        "\n",
        "df = df.round()"
      ],
      "metadata": {
        "execution": {
          "iopub.status.busy": "2022-12-25T04:12:40.883554Z",
          "iopub.execute_input": "2022-12-25T04:12:40.884058Z",
          "iopub.status.idle": "2022-12-25T04:12:40.895889Z",
          "shell.execute_reply.started": "2022-12-25T04:12:40.884013Z",
          "shell.execute_reply": "2022-12-25T04:12:40.894178Z"
        },
        "trusted": true,
        "id": "ulCHRgnDNZmu"
      },
      "execution_count": 7,
      "outputs": []
    },
    {
      "cell_type": "code",
      "source": [
        "# drop out of bounds bpm\n",
        "\n",
        "df = df[(df['BPM'].isnull()) | (df['BPM'] >= 20) & (df['BPM'] <= 500)]"
      ],
      "metadata": {
        "execution": {
          "iopub.status.busy": "2022-12-25T04:12:40.902086Z",
          "iopub.execute_input": "2022-12-25T04:12:40.902746Z",
          "iopub.status.idle": "2022-12-25T04:12:40.910474Z",
          "shell.execute_reply.started": "2022-12-25T04:12:40.902707Z",
          "shell.execute_reply": "2022-12-25T04:12:40.909083Z"
        },
        "trusted": true,
        "id": "F8k0l5Y-NZmu"
      },
      "execution_count": 8,
      "outputs": []
    },
    {
      "cell_type": "code",
      "source": [
        "df.isna().sum()"
      ],
      "metadata": {
        "execution": {
          "iopub.status.busy": "2022-12-25T04:12:41.045307Z",
          "iopub.execute_input": "2022-12-25T04:12:41.045945Z",
          "iopub.status.idle": "2022-12-25T04:12:41.057233Z",
          "shell.execute_reply.started": "2022-12-25T04:12:41.045911Z",
          "shell.execute_reply": "2022-12-25T04:12:41.055771Z"
        },
        "trusted": true,
        "colab": {
          "base_uri": "https://localhost:8080/"
        },
        "id": "alNkcQV7NZmv",
        "outputId": "edafd39c-a842-423a-a97f-27ef1cf8366f"
      },
      "execution_count": 9,
      "outputs": [
        {
          "output_type": "execute_result",
          "data": {
            "text/plain": [
              "Timestamp                         0\n",
              "Age                               1\n",
              "Primary streaming service         1\n",
              "Hours per day                     0\n",
              "While working                     3\n",
              "Instrumentalist                   4\n",
              "Composer                          1\n",
              "Fav genre                         0\n",
              "Exploratory                       0\n",
              "Foreign languages                 4\n",
              "BPM                             107\n",
              "Frequency [Classical]             0\n",
              "Frequency [Country]               0\n",
              "Frequency [EDM]                   0\n",
              "Frequency [Folk]                  0\n",
              "Frequency [Gospel]                0\n",
              "Frequency [Hip hop]               0\n",
              "Frequency [Jazz]                  0\n",
              "Frequency [K pop]                 0\n",
              "Frequency [Latin]                 0\n",
              "Frequency [Lofi]                  0\n",
              "Frequency [Metal]                 0\n",
              "Frequency [Pop]                   0\n",
              "Frequency [R&B]                   0\n",
              "Frequency [Rap]                   0\n",
              "Frequency [Rock]                  0\n",
              "Frequency [Video game music]      0\n",
              "Anxiety                           0\n",
              "Depression                        0\n",
              "Insomnia                          0\n",
              "OCD                               0\n",
              "Music effects                     8\n",
              "Permissions                       0\n",
              "dtype: int64"
            ]
          },
          "metadata": {},
          "execution_count": 9
        }
      ]
    },
    {
      "cell_type": "markdown",
      "source": [
        "We can use Simple Imputer to fix this later."
      ],
      "metadata": {
        "id": "YVJrFhr8NZmw"
      }
    },
    {
      "cell_type": "markdown",
      "source": [
        "# Splitting data"
      ],
      "metadata": {
        "id": "0v4ho0c0NZmw"
      }
    },
    {
      "cell_type": "code",
      "source": [
        "df['Fav genre'].value_counts()"
      ],
      "metadata": {
        "execution": {
          "iopub.status.busy": "2022-12-25T04:12:41.096634Z",
          "iopub.execute_input": "2022-12-25T04:12:41.097803Z",
          "iopub.status.idle": "2022-12-25T04:12:41.10968Z",
          "shell.execute_reply.started": "2022-12-25T04:12:41.097754Z",
          "shell.execute_reply": "2022-12-25T04:12:41.108095Z"
        },
        "trusted": true,
        "colab": {
          "base_uri": "https://localhost:8080/"
        },
        "id": "t7GuKkM2NZmw",
        "outputId": "68d9b417-e4ce-4dd2-9b79-d02785c8a4a1"
      },
      "execution_count": 10,
      "outputs": [
        {
          "output_type": "execute_result",
          "data": {
            "text/plain": [
              "Rock                188\n",
              "Pop                 114\n",
              "Metal                86\n",
              "Classical            53\n",
              "Video game music     43\n",
              "EDM                  36\n",
              "Hip hop              35\n",
              "R&B                  34\n",
              "Folk                 29\n",
              "K pop                26\n",
              "Country              25\n",
              "Rap                  22\n",
              "Jazz                 20\n",
              "Lofi                 10\n",
              "Gospel                5\n",
              "Latin                 3\n",
              "Name: Fav genre, dtype: int64"
            ]
          },
          "metadata": {},
          "execution_count": 10
        }
      ]
    },
    {
      "cell_type": "markdown",
      "source": [
        "We have *very* limited data for certain genres. We could create an \"Other\" category for all genres below a certain threshold (or even drop those instances) to improve performance. However, I have decided against this, solely because I want users to have a wide array of choices when using this model. \n",
        "\n",
        "(Online learning could also be set up to improve performance, as more data is acquired.)\n",
        "\n",
        "For now, I'll be splitting the train and test sets by stratifying over the Favorite genre feature, such that they have equal proportions. This ensures \"rarer\" genres exist in both sets, so we do not have a dimension mismatch later on.\n",
        "\n",
        "I also decide to use a 85/15 split (rather than 80/20) to maximize allotted training data."
      ],
      "metadata": {
        "id": "IZs_fMtoNZmx"
      }
    },
    {
      "cell_type": "code",
      "source": [
        "import numpy as np\n",
        "from sklearn.model_selection import train_test_split\n",
        "\n",
        "X = df.drop(['Depression', 'Anxiety', 'Insomnia', 'OCD'], axis=1)\n",
        "y1 = df['Anxiety']\n",
        "y2 = df['Depression']\n",
        "y3 = df['Insomnia']\n",
        "y4 = df['OCD']\n",
        "\n",
        "y = np.column_stack((y1, y2, y3, y4))\n",
        "\n",
        "X_train, X_test, y_train, y_test = train_test_split(X, y, test_size=0.15, stratify=df['Fav genre'], random_state=42)"
      ],
      "metadata": {
        "execution": {
          "iopub.status.busy": "2022-12-25T04:12:41.144824Z",
          "iopub.execute_input": "2022-12-25T04:12:41.145636Z",
          "iopub.status.idle": "2022-12-25T04:12:41.786313Z",
          "shell.execute_reply.started": "2022-12-25T04:12:41.145583Z",
          "shell.execute_reply": "2022-12-25T04:12:41.785002Z"
        },
        "trusted": true,
        "id": "hPcpZcoONZmx"
      },
      "execution_count": 11,
      "outputs": []
    },
    {
      "cell_type": "markdown",
      "source": [
        "Let's make sure the Favorite genre feature of both sets have the same number of values:"
      ],
      "metadata": {
        "id": "l9XJqxHpNZmy"
      }
    },
    {
      "cell_type": "code",
      "source": [
        "len(X_train['Fav genre'].value_counts())"
      ],
      "metadata": {
        "execution": {
          "iopub.status.busy": "2022-12-25T04:12:41.78816Z",
          "iopub.execute_input": "2022-12-25T04:12:41.788482Z",
          "iopub.status.idle": "2022-12-25T04:12:41.801623Z",
          "shell.execute_reply.started": "2022-12-25T04:12:41.788452Z",
          "shell.execute_reply": "2022-12-25T04:12:41.800186Z"
        },
        "trusted": true,
        "colab": {
          "base_uri": "https://localhost:8080/"
        },
        "id": "FCh4EyT3NZmy",
        "outputId": "eb507e73-051f-482f-adb0-4905d407a269"
      },
      "execution_count": 12,
      "outputs": [
        {
          "output_type": "execute_result",
          "data": {
            "text/plain": [
              "16"
            ]
          },
          "metadata": {},
          "execution_count": 12
        }
      ]
    },
    {
      "cell_type": "code",
      "source": [
        "len(X_test['Fav genre'].value_counts())"
      ],
      "metadata": {
        "execution": {
          "iopub.status.busy": "2022-12-25T04:12:41.803046Z",
          "iopub.execute_input": "2022-12-25T04:12:41.80349Z",
          "iopub.status.idle": "2022-12-25T04:12:41.813716Z",
          "shell.execute_reply.started": "2022-12-25T04:12:41.803457Z",
          "shell.execute_reply": "2022-12-25T04:12:41.812387Z"
        },
        "trusted": true,
        "colab": {
          "base_uri": "https://localhost:8080/"
        },
        "id": "s8KwifmfNZmy",
        "outputId": "373d28d7-2371-4696-b60e-7c6b18582d95"
      },
      "execution_count": 13,
      "outputs": [
        {
          "output_type": "execute_result",
          "data": {
            "text/plain": [
              "16"
            ]
          },
          "metadata": {},
          "execution_count": 13
        }
      ]
    },
    {
      "cell_type": "markdown",
      "source": [
        "# Custom transformer"
      ],
      "metadata": {
        "id": "et5WKhaQNZmy"
      }
    },
    {
      "cell_type": "code",
      "source": [
        "from sklearn.base import BaseEstimator, TransformerMixin\n",
        "\n",
        "class Remover(BaseEstimator, TransformerMixin):\n",
        "\n",
        "    def __init__(self, useless):\n",
        "        self.useless = useless\n",
        "\n",
        "    def fit(self, X, y=None):\n",
        "        return self\n",
        "\n",
        "    def transform(self, X):\n",
        "        X_copy = X.copy()\n",
        "\n",
        "        X_copy = X_copy.drop(self.useless, axis=1)\n",
        "\n",
        "        return X_copy"
      ],
      "metadata": {
        "execution": {
          "iopub.status.busy": "2022-12-25T04:12:41.81705Z",
          "iopub.execute_input": "2022-12-25T04:12:41.818643Z",
          "iopub.status.idle": "2022-12-25T04:12:41.826456Z",
          "shell.execute_reply.started": "2022-12-25T04:12:41.818579Z",
          "shell.execute_reply": "2022-12-25T04:12:41.825242Z"
        },
        "trusted": true,
        "id": "_ENM1kmVNZmz"
      },
      "execution_count": 14,
      "outputs": []
    },
    {
      "cell_type": "markdown",
      "source": [
        "# Pipeline"
      ],
      "metadata": {
        "id": "owY1YVACNZmz"
      }
    },
    {
      "cell_type": "code",
      "source": [
        "from sklearn.impute import SimpleImputer\n",
        "from sklearn.preprocessing import OneHotEncoder\n",
        "from sklearn.pipeline import Pipeline\n",
        "from sklearn.preprocessing import StandardScaler\n",
        "from sklearn.compose import ColumnTransformer"
      ],
      "metadata": {
        "execution": {
          "iopub.status.busy": "2022-12-25T04:12:41.828179Z",
          "iopub.execute_input": "2022-12-25T04:12:41.829211Z",
          "iopub.status.idle": "2022-12-25T04:12:41.993939Z",
          "shell.execute_reply.started": "2022-12-25T04:12:41.829173Z",
          "shell.execute_reply": "2022-12-25T04:12:41.992447Z"
        },
        "trusted": true,
        "id": "4AnWN15WNZmz"
      },
      "execution_count": 15,
      "outputs": []
    },
    {
      "cell_type": "code",
      "source": [
        "useless = [\"Timestamp\", \"Permissions\"]\n",
        "\n",
        "cat_stuff = X_train.columns[X_train.dtypes == 'object']\n",
        "cat_stuff = cat_stuff.difference(useless)\n",
        "cat_stuff = cat_stuff.tolist()\n",
        "\n",
        "num_stuff = X_train.columns.difference(useless).difference(cat_stuff)\n",
        "num_stuff = num_stuff.tolist()"
      ],
      "metadata": {
        "execution": {
          "iopub.status.busy": "2022-12-25T04:12:41.99534Z",
          "iopub.execute_input": "2022-12-25T04:12:41.995838Z",
          "iopub.status.idle": "2022-12-25T04:12:42.004642Z",
          "shell.execute_reply.started": "2022-12-25T04:12:41.995803Z",
          "shell.execute_reply": "2022-12-25T04:12:42.003668Z"
        },
        "trusted": true,
        "id": "u0i6MVjZNZmz"
      },
      "execution_count": 16,
      "outputs": []
    },
    {
      "cell_type": "code",
      "source": [
        "num_pipeline = Pipeline ([\n",
        "    (\"imputer\", SimpleImputer(strategy=\"mean\")),\n",
        "    (\"std\", StandardScaler())\n",
        "])\n",
        "\n",
        "cat_pipeline = Pipeline ([\n",
        "    (\"imputer\", SimpleImputer(strategy=\"most_frequent\")),\n",
        "    (\"one_hot\", OneHotEncoder())\n",
        "])\n",
        "\n",
        "core_pipeline = ColumnTransformer([\n",
        "    (\"cat\", cat_pipeline, cat_stuff),\n",
        "    (\"num\", num_pipeline, num_stuff)\n",
        "])\n",
        "\n",
        "full_pipeline = Pipeline ([\n",
        "    (\"remover\", Remover(useless)),\n",
        "    (\"core_pipeline\", core_pipeline)\n",
        "])"
      ],
      "metadata": {
        "execution": {
          "iopub.status.busy": "2022-12-25T04:12:42.006079Z",
          "iopub.execute_input": "2022-12-25T04:12:42.006674Z",
          "iopub.status.idle": "2022-12-25T04:12:42.020523Z",
          "shell.execute_reply.started": "2022-12-25T04:12:42.006622Z",
          "shell.execute_reply": "2022-12-25T04:12:42.019342Z"
        },
        "trusted": true,
        "id": "AfYtEtuwNZm0"
      },
      "execution_count": 17,
      "outputs": []
    },
    {
      "cell_type": "code",
      "source": [
        "X_train = full_pipeline.fit_transform(X_train)\n",
        "X_test = full_pipeline.fit_transform(X_test)"
      ],
      "metadata": {
        "execution": {
          "iopub.status.busy": "2022-12-25T04:12:42.02206Z",
          "iopub.execute_input": "2022-12-25T04:12:42.022618Z",
          "iopub.status.idle": "2022-12-25T04:12:42.08219Z",
          "shell.execute_reply.started": "2022-12-25T04:12:42.022563Z",
          "shell.execute_reply": "2022-12-25T04:12:42.081179Z"
        },
        "trusted": true,
        "id": "fQAO8Lp9NZm0"
      },
      "execution_count": 18,
      "outputs": []
    },
    {
      "cell_type": "code",
      "source": [
        "X_train.shape, X_test.shape"
      ],
      "metadata": {
        "execution": {
          "iopub.status.busy": "2022-12-25T04:12:42.083657Z",
          "iopub.execute_input": "2022-12-25T04:12:42.084225Z",
          "iopub.status.idle": "2022-12-25T04:12:42.090882Z",
          "shell.execute_reply.started": "2022-12-25T04:12:42.084191Z",
          "shell.execute_reply": "2022-12-25T04:12:42.089645Z"
        },
        "trusted": true,
        "colab": {
          "base_uri": "https://localhost:8080/"
        },
        "id": "QKkU4aB2NZm0",
        "outputId": "fa06c0cd-721b-448f-9491-f2705e1ed6d1"
      },
      "execution_count": 19,
      "outputs": [
        {
          "output_type": "execute_result",
          "data": {
            "text/plain": [
              "((619, 102), (110, 102))"
            ]
          },
          "metadata": {},
          "execution_count": 19
        }
      ]
    },
    {
      "cell_type": "code",
      "source": [
        "y_train.shape"
      ],
      "metadata": {
        "execution": {
          "iopub.status.busy": "2022-12-25T04:12:42.094704Z",
          "iopub.execute_input": "2022-12-25T04:12:42.095373Z",
          "iopub.status.idle": "2022-12-25T04:12:42.102329Z",
          "shell.execute_reply.started": "2022-12-25T04:12:42.095329Z",
          "shell.execute_reply": "2022-12-25T04:12:42.101368Z"
        },
        "trusted": true,
        "colab": {
          "base_uri": "https://localhost:8080/"
        },
        "id": "rDy2-pohNZm0",
        "outputId": "a8706413-ca1b-4c1a-c2fb-c4d65141174b"
      },
      "execution_count": 20,
      "outputs": [
        {
          "output_type": "execute_result",
          "data": {
            "text/plain": [
              "(619, 4)"
            ]
          },
          "metadata": {},
          "execution_count": 20
        }
      ]
    },
    {
      "cell_type": "markdown",
      "source": [
        "Dimensions look good!"
      ],
      "metadata": {
        "id": "PssMDV5NNZm0"
      }
    },
    {
      "cell_type": "markdown",
      "source": [
        "# Model 1A: Complete Rankings, MultiOutput + AdaBoost + RFC "
      ],
      "metadata": {
        "id": "XAaIiaKoNZm1"
      }
    },
    {
      "cell_type": "code",
      "source": [
        "from sklearn.multioutput import MultiOutputClassifier\n",
        "from sklearn.ensemble import RandomForestClassifier\n",
        "from sklearn.ensemble import AdaBoostClassifier\n",
        "\n",
        "multi = MultiOutputClassifier(estimator=AdaBoostClassifier(base_estimator=RandomForestClassifier()))\n",
        "multi.get_params().keys()"
      ],
      "metadata": {
        "execution": {
          "iopub.status.busy": "2022-12-25T04:12:42.103763Z",
          "iopub.execute_input": "2022-12-25T04:12:42.104335Z",
          "iopub.status.idle": "2022-12-25T04:12:42.217888Z",
          "shell.execute_reply.started": "2022-12-25T04:12:42.104295Z",
          "shell.execute_reply": "2022-12-25T04:12:42.216906Z"
        },
        "trusted": true,
        "colab": {
          "base_uri": "https://localhost:8080/"
        },
        "id": "5I54tHlqNZm1",
        "outputId": "eed15e4a-2f81-409c-965c-f2aa925b4e4c"
      },
      "execution_count": 21,
      "outputs": [
        {
          "output_type": "execute_result",
          "data": {
            "text/plain": [
              "dict_keys(['estimator__algorithm', 'estimator__base_estimator__bootstrap', 'estimator__base_estimator__ccp_alpha', 'estimator__base_estimator__class_weight', 'estimator__base_estimator__criterion', 'estimator__base_estimator__max_depth', 'estimator__base_estimator__max_features', 'estimator__base_estimator__max_leaf_nodes', 'estimator__base_estimator__max_samples', 'estimator__base_estimator__min_impurity_decrease', 'estimator__base_estimator__min_samples_leaf', 'estimator__base_estimator__min_samples_split', 'estimator__base_estimator__min_weight_fraction_leaf', 'estimator__base_estimator__n_estimators', 'estimator__base_estimator__n_jobs', 'estimator__base_estimator__oob_score', 'estimator__base_estimator__random_state', 'estimator__base_estimator__verbose', 'estimator__base_estimator__warm_start', 'estimator__base_estimator', 'estimator__estimator', 'estimator__learning_rate', 'estimator__n_estimators', 'estimator__random_state', 'estimator', 'n_jobs'])"
            ]
          },
          "metadata": {},
          "execution_count": 21
        }
      ]
    },
    {
      "cell_type": "code",
      "source": [
        "from sklearn.model_selection import RandomizedSearchCV\n",
        "from scipy.stats import uniform\n",
        "import warnings\n",
        "\n",
        "warnings.filterwarnings(\"ignore\")\n",
        "\n",
        "model = MultiOutputClassifier(AdaBoostClassifier(base_estimator=RandomForestClassifier()))\n",
        "\n",
        "param_distributions = {\n",
        "    \"estimator__learning_rate\": uniform(0.01, 1.0),\n",
        "    \"estimator__n_estimators\": [50, 100, 150],\n",
        "    \"estimator__base_estimator__n_estimators\": [100, 200, 300, 400],\n",
        "    \"estimator__base_estimator__criterion\": ['gini', 'entropy']\n",
        "}\n",
        "\n",
        "random_search = RandomizedSearchCV(model, param_distributions, cv=5, scoring=\"f1_weighted\", return_train_score=True, n_iter=20)\n",
        "\n",
        "random_search.fit(X_train, y_train)\n",
        "\n",
        "print(random_search.best_params_)\n",
        "\n",
        "best_model = random_search.best_estimator_"
      ],
      "metadata": {
        "trusted": true,
        "colab": {
          "base_uri": "https://localhost:8080/"
        },
        "id": "Ma63_MaeNZm1",
        "outputId": "3bc6fb95-5ed6-4bf7-d053-85506e1ca7a9"
      },
      "execution_count": 22,
      "outputs": [
        {
          "output_type": "stream",
          "name": "stdout",
          "text": [
            "{'estimator__base_estimator__criterion': 'gini', 'estimator__base_estimator__n_estimators': 400, 'estimator__learning_rate': 0.9512214491460526, 'estimator__n_estimators': 150}\n"
          ]
        }
      ]
    },
    {
      "cell_type": "code",
      "source": [
        "# recreate model from Version 1\n",
        "\n",
        "best_model = MultiOutputClassifier(\n",
        "    estimator=AdaBoostClassifier(\n",
        "        base_estimator=RandomForestClassifier(\n",
        "            criterion='gini',\n",
        "            n_estimators=200\n",
        "        ),\n",
        "        learning_rate=0.48508192499490754,\n",
        "        n_estimators=100\n",
        "    )\n",
        ")"
      ],
      "metadata": {
        "execution": {
          "iopub.status.busy": "2022-12-25T04:12:55.573257Z",
          "iopub.execute_input": "2022-12-25T04:12:55.573705Z",
          "iopub.status.idle": "2022-12-25T04:12:55.580557Z",
          "shell.execute_reply.started": "2022-12-25T04:12:55.573669Z",
          "shell.execute_reply": "2022-12-25T04:12:55.579108Z"
        },
        "trusted": true,
        "id": "MTeM5XavNZm1"
      },
      "execution_count": 23,
      "outputs": []
    },
    {
      "cell_type": "code",
      "source": [
        "best_model.fit(X_train, y_train)\n",
        "\n",
        "y_pred = best_model.predict(X_test)"
      ],
      "metadata": {
        "execution": {
          "iopub.status.busy": "2022-12-25T04:14:11.958619Z",
          "iopub.execute_input": "2022-12-25T04:14:11.959109Z",
          "iopub.status.idle": "2022-12-25T04:14:16.030641Z",
          "shell.execute_reply.started": "2022-12-25T04:14:11.959075Z",
          "shell.execute_reply": "2022-12-25T04:14:16.029497Z"
        },
        "trusted": true,
        "id": "I1ow5dhrNZm1"
      },
      "execution_count": 24,
      "outputs": []
    },
    {
      "cell_type": "code",
      "source": [
        "y_pred[:5]"
      ],
      "metadata": {
        "execution": {
          "iopub.status.busy": "2022-12-25T04:14:20.618509Z",
          "iopub.execute_input": "2022-12-25T04:14:20.618938Z",
          "iopub.status.idle": "2022-12-25T04:14:20.626469Z",
          "shell.execute_reply.started": "2022-12-25T04:14:20.618905Z",
          "shell.execute_reply": "2022-12-25T04:14:20.625364Z"
        },
        "trusted": true,
        "colab": {
          "base_uri": "https://localhost:8080/"
        },
        "id": "JUiu2gR7NZm1",
        "outputId": "d1f309e5-0b77-417a-e3ee-2195a10fe11f"
      },
      "execution_count": 25,
      "outputs": [
        {
          "output_type": "execute_result",
          "data": {
            "text/plain": [
              "array([[ 7.,  0.,  0.,  0.],\n",
              "       [10.,  8.,  6.,  0.],\n",
              "       [ 5.,  4.,  2.,  0.],\n",
              "       [ 8.,  7.,  0.,  0.],\n",
              "       [ 7.,  0.,  2.,  0.]])"
            ]
          },
          "metadata": {},
          "execution_count": 25
        }
      ]
    },
    {
      "cell_type": "code",
      "source": [
        "y_test[:5]"
      ],
      "metadata": {
        "execution": {
          "iopub.status.busy": "2022-12-25T04:14:25.099658Z",
          "iopub.execute_input": "2022-12-25T04:14:25.100086Z",
          "iopub.status.idle": "2022-12-25T04:14:25.106942Z",
          "shell.execute_reply.started": "2022-12-25T04:14:25.100053Z",
          "shell.execute_reply": "2022-12-25T04:14:25.106015Z"
        },
        "trusted": true,
        "colab": {
          "base_uri": "https://localhost:8080/"
        },
        "id": "kws1SWecNZm2",
        "outputId": "195d4342-cd62-4072-bb2b-4e77358a07d3"
      },
      "execution_count": 26,
      "outputs": [
        {
          "output_type": "execute_result",
          "data": {
            "text/plain": [
              "array([[ 4.,  2.,  0.,  0.],\n",
              "       [ 3.,  2.,  5.,  6.],\n",
              "       [ 5.,  3.,  5.,  3.],\n",
              "       [ 5.,  1.,  1.,  9.],\n",
              "       [ 3., 10.,  4.,  1.]])"
            ]
          },
          "metadata": {},
          "execution_count": 26
        }
      ]
    },
    {
      "cell_type": "markdown",
      "source": [
        "## Model 1A Evaluation"
      ],
      "metadata": {
        "id": "UmWpCSJ9NZm2"
      }
    },
    {
      "cell_type": "code",
      "source": [
        "base_estimator = best_model.estimators_[0]\n",
        "feature_importances = base_estimator.feature_importances_\n",
        "\n",
        "feature_importances"
      ],
      "metadata": {
        "execution": {
          "iopub.status.busy": "2022-12-25T04:13:13.096901Z",
          "iopub.execute_input": "2022-12-25T04:13:13.097299Z",
          "iopub.status.idle": "2022-12-25T04:13:13.13137Z",
          "shell.execute_reply.started": "2022-12-25T04:13:13.097268Z",
          "shell.execute_reply": "2022-12-25T04:13:13.130166Z"
        },
        "trusted": true,
        "colab": {
          "base_uri": "https://localhost:8080/"
        },
        "id": "aahbkAHONZm2",
        "outputId": "85d7e264-54de-483c-a546-31d54be35b43"
      },
      "execution_count": 27,
      "outputs": [
        {
          "output_type": "execute_result",
          "data": {
            "text/plain": [
              "array([0.00847484, 0.00923253, 0.01007318, 0.00968657, 0.00486262,\n",
              "       0.00318199, 0.00409214, 0.00323188, 0.00097977, 0.00371406,\n",
              "       0.0020656 , 0.00321917, 0.00039543, 0.00188886, 0.00711971,\n",
              "       0.00840723, 0.00373841, 0.00324453, 0.01121512, 0.00416779,\n",
              "       0.01127267, 0.01153866, 0.01021828, 0.01258935, 0.01053004,\n",
              "       0.00772212, 0.01235939, 0.01093377, 0.00838463, 0.00500417,\n",
              "       0.01256083, 0.011684  , 0.0096854 , 0.00838661, 0.01160581,\n",
              "       0.01226493, 0.01062565, 0.00678067, 0.00997233, 0.00836466,\n",
              "       0.00537689, 0.00144044, 0.00972803, 0.01229961, 0.01087242,\n",
              "       0.00734305, 0.01301074, 0.01283556, 0.01040052, 0.00534634,\n",
              "       0.01127243, 0.01061441, 0.00625961, 0.00538623, 0.01126544,\n",
              "       0.01028605, 0.00619101, 0.00406673, 0.01162776, 0.01202205,\n",
              "       0.01038951, 0.00712525, 0.01196106, 0.01107904, 0.01151774,\n",
              "       0.00974576, 0.00592934, 0.01119266, 0.01270389, 0.01144423,\n",
              "       0.01091374, 0.01251895, 0.01151378, 0.00779541, 0.01016602,\n",
              "       0.0122367 , 0.01199163, 0.00738349, 0.0060642 , 0.00822181,\n",
              "       0.01157628, 0.01192956, 0.01338863, 0.01186812, 0.01243534,\n",
              "       0.00884861, 0.01098131, 0.01060232, 0.0111497 , 0.01078554,\n",
              "       0.00200221, 0.00558587, 0.00627724, 0.00603436, 0.00095373,\n",
              "       0.01137817, 0.00854313, 0.0091219 , 0.0089761 , 0.05051487,\n",
              "       0.05240399, 0.03962809])"
            ]
          },
          "metadata": {},
          "execution_count": 27
        }
      ]
    },
    {
      "cell_type": "code",
      "source": [
        "import numpy as np\n",
        "from sklearn.metrics import precision_score, recall_score, f1_score\n",
        "\n",
        "def multi_classification_report(y_test, y_pred):\n",
        "\n",
        "    avg_precision = 0\n",
        "    avg_recall = 0\n",
        "    avg_f1 = 0\n",
        "    support_list = []\n",
        "    \n",
        "    for i in range(y_test.shape[1]):\n",
        "        precision = precision_score(y_test[:, i], y_pred[:, i], average='weighted')\n",
        "        recall = recall_score(y_test[:, i], y_pred[:, i], average='weighted')\n",
        "        f1 = f1_score(y_test[:, i], y_pred[:, i], average='weighted')\n",
        "        \n",
        "        avg_precision += precision\n",
        "        avg_recall += recall\n",
        "        avg_f1 += f1\n",
        "        support_list.append(precision_score(y_test[:, i], y_pred[:, i], average='weighted', zero_division=1))\n",
        "    \n",
        "    avg_precision /= y_test.shape[1]\n",
        "    avg_recall /= y_test.shape[1]\n",
        "    avg_f1 /= y_test.shape[1]\n",
        "    \n",
        "    report = (f\"Precision: {avg_precision:.5f}\\n\"\n",
        "             f\"Recall: {avg_recall:.5f}\\n\"\n",
        "             f\"F1 score: {avg_f1:.5f}\\n\"\n",
        "             f\"Support: {support_list}\\n\")\n",
        "             \n",
        "    return report"
      ],
      "metadata": {
        "execution": {
          "iopub.status.busy": "2022-12-25T04:13:16.465747Z",
          "iopub.execute_input": "2022-12-25T04:13:16.466136Z",
          "iopub.status.idle": "2022-12-25T04:13:16.475523Z",
          "shell.execute_reply.started": "2022-12-25T04:13:16.466104Z",
          "shell.execute_reply": "2022-12-25T04:13:16.474356Z"
        },
        "trusted": true,
        "id": "P_KbKcSxNZm2"
      },
      "execution_count": 28,
      "outputs": []
    },
    {
      "cell_type": "code",
      "source": [
        "report = multi_classification_report(y_test, y_pred)\n",
        "print(report)"
      ],
      "metadata": {
        "execution": {
          "iopub.status.busy": "2022-12-25T04:14:30.595525Z",
          "iopub.execute_input": "2022-12-25T04:14:30.595928Z",
          "iopub.status.idle": "2022-12-25T04:14:30.618719Z",
          "shell.execute_reply.started": "2022-12-25T04:14:30.595888Z",
          "shell.execute_reply": "2022-12-25T04:14:30.617532Z"
        },
        "trusted": true,
        "colab": {
          "base_uri": "https://localhost:8080/"
        },
        "id": "N85AExlgNZm2",
        "outputId": "195895d2-4a87-4dbe-b06c-285fc7a97aa7"
      },
      "execution_count": 29,
      "outputs": [
        {
          "output_type": "stream",
          "name": "stdout",
          "text": [
            "Precision: 0.19395\n",
            "Recall: 0.22727\n",
            "F1 score: 0.16882\n",
            "Support: [0.2559243275152366, 0.20582664884135476, 0.3841322314049586, 0.41174617461746177]\n",
            "\n"
          ]
        }
      ]
    },
    {
      "cell_type": "code",
      "source": [
        "from sklearn.metrics import jaccard_score\n",
        "\n",
        "def jscore(y_test, y_pred):\n",
        "\n",
        "    scores = [jaccard_score(y_test[:, i], y_pred[:, i], average='weighted') for i in range(y_test.shape[1])]\n",
        "\n",
        "    avg_score = np.mean(scores)\n",
        "\n",
        "    print(f\"Avg Jaccard similarity coefficient: {avg_score:.5f}\")"
      ],
      "metadata": {
        "execution": {
          "iopub.status.busy": "2022-12-25T04:13:32.952662Z",
          "iopub.execute_input": "2022-12-25T04:13:32.953041Z",
          "iopub.status.idle": "2022-12-25T04:13:32.960063Z",
          "shell.execute_reply.started": "2022-12-25T04:13:32.953011Z",
          "shell.execute_reply": "2022-12-25T04:13:32.958861Z"
        },
        "trusted": true,
        "id": "okXTpj8aNZm3"
      },
      "execution_count": 30,
      "outputs": []
    },
    {
      "cell_type": "code",
      "source": [
        "jscore(y_test, y_pred)"
      ],
      "metadata": {
        "execution": {
          "iopub.status.busy": "2022-12-25T04:13:34.766985Z",
          "iopub.execute_input": "2022-12-25T04:13:34.767406Z",
          "iopub.status.idle": "2022-12-25T04:13:34.779436Z",
          "shell.execute_reply.started": "2022-12-25T04:13:34.767371Z",
          "shell.execute_reply": "2022-12-25T04:13:34.778036Z"
        },
        "trusted": true,
        "colab": {
          "base_uri": "https://localhost:8080/"
        },
        "id": "R1KLcryzNZm3",
        "outputId": "d2c41f03-bc2e-4c15-e3dc-fde39f407678"
      },
      "execution_count": 31,
      "outputs": [
        {
          "output_type": "stream",
          "name": "stdout",
          "text": [
            "Avg Jaccard similarity coefficient: 0.10277\n"
          ]
        }
      ]
    },
    {
      "cell_type": "markdown",
      "source": [
        "As expected, this model has significantly low performance. Most trends I extracted in the EDA are the result of noisy data and do not scale well."
      ],
      "metadata": {
        "id": "Z3YfO6HANZm3"
      }
    },
    {
      "cell_type": "markdown",
      "source": [
        "## Saving model 1A & pipeline"
      ],
      "metadata": {
        "id": "S7p-Gu0_NZm3"
      }
    },
    {
      "cell_type": "code",
      "source": [
        "import pickle\n",
        "with open('model.pkl', 'wb') as f:\n",
        "    pickle.dump(best_model, f)"
      ],
      "metadata": {
        "execution": {
          "iopub.status.busy": "2022-12-25T04:15:54.182Z",
          "iopub.execute_input": "2022-12-25T04:15:54.18244Z",
          "iopub.status.idle": "2022-12-25T04:15:54.407191Z",
          "shell.execute_reply.started": "2022-12-25T04:15:54.182393Z",
          "shell.execute_reply": "2022-12-25T04:15:54.406061Z"
        },
        "trusted": true,
        "id": "Ezo7O0lcNZm3"
      },
      "execution_count": 32,
      "outputs": []
    },
    {
      "cell_type": "code",
      "source": [
        "with open(\"pipeline.pkl\", \"wb\") as f:\n",
        "    pickle.dump(full_pipeline, f)"
      ],
      "metadata": {
        "execution": {
          "iopub.status.busy": "2022-12-25T04:15:55.913089Z",
          "iopub.execute_input": "2022-12-25T04:15:55.913498Z",
          "iopub.status.idle": "2022-12-25T04:15:55.919488Z",
          "shell.execute_reply.started": "2022-12-25T04:15:55.913464Z",
          "shell.execute_reply": "2022-12-25T04:15:55.918489Z"
        },
        "trusted": true,
        "id": "gV7PHWClNZm3"
      },
      "execution_count": 33,
      "outputs": []
    },
    {
      "cell_type": "markdown",
      "source": [
        "# Model 1B: Binary Classification, MultiOutput + AdaBoost + RFC \n",
        "This model will follow a similar architecture to Model 1A. However, this time, we'll be converting 1-10 rankings to a binary classification task."
      ],
      "metadata": {
        "id": "HLCmqQqBNZm3"
      }
    },
    {
      "cell_type": "markdown",
      "source": [
        "### Convert values"
      ],
      "metadata": {
        "id": "HuetYNs3NZm4"
      }
    },
    {
      "cell_type": "code",
      "source": [
        "y"
      ],
      "metadata": {
        "execution": {
          "iopub.status.busy": "2022-12-25T04:16:00.778141Z",
          "iopub.execute_input": "2022-12-25T04:16:00.77851Z",
          "iopub.status.idle": "2022-12-25T04:16:00.786069Z",
          "shell.execute_reply.started": "2022-12-25T04:16:00.77848Z",
          "shell.execute_reply": "2022-12-25T04:16:00.784937Z"
        },
        "trusted": true,
        "colab": {
          "base_uri": "https://localhost:8080/"
        },
        "id": "7hP5gDz4NZm4",
        "outputId": "fcdf5234-489f-4afd-eac3-3a24f1b81ec3"
      },
      "execution_count": 34,
      "outputs": [
        {
          "output_type": "execute_result",
          "data": {
            "text/plain": [
              "array([[ 3.,  0.,  1.,  0.],\n",
              "       [ 7.,  2.,  2.,  1.],\n",
              "       [ 7.,  7., 10.,  2.],\n",
              "       ...,\n",
              "       [ 2.,  2.,  2.,  2.],\n",
              "       [ 2.,  3.,  2.,  1.],\n",
              "       [ 2.,  2.,  2.,  5.]])"
            ]
          },
          "metadata": {},
          "execution_count": 34
        }
      ]
    },
    {
      "cell_type": "code",
      "source": [
        "mask = y > 4\n",
        "y_b = np.where(mask, 1, 0)\n",
        "y_b"
      ],
      "metadata": {
        "execution": {
          "iopub.status.busy": "2022-12-25T04:16:02.471162Z",
          "iopub.execute_input": "2022-12-25T04:16:02.471546Z",
          "iopub.status.idle": "2022-12-25T04:16:02.479671Z",
          "shell.execute_reply.started": "2022-12-25T04:16:02.471515Z",
          "shell.execute_reply": "2022-12-25T04:16:02.478133Z"
        },
        "trusted": true,
        "colab": {
          "base_uri": "https://localhost:8080/"
        },
        "id": "fJcqshjPNZm4",
        "outputId": "a2be3557-b2a4-4696-cdf1-c784e2a36449"
      },
      "execution_count": 35,
      "outputs": [
        {
          "output_type": "execute_result",
          "data": {
            "text/plain": [
              "array([[0, 0, 0, 0],\n",
              "       [1, 0, 0, 0],\n",
              "       [1, 1, 1, 0],\n",
              "       ...,\n",
              "       [0, 0, 0, 0],\n",
              "       [0, 0, 0, 0],\n",
              "       [0, 0, 0, 1]])"
            ]
          },
          "metadata": {},
          "execution_count": 35
        }
      ]
    },
    {
      "cell_type": "code",
      "source": [
        "x_X_train, x_X_test, y_b_train, y_b_test = train_test_split(X, y_b, test_size=0.15, stratify=df['Fav genre'], random_state=42)"
      ],
      "metadata": {
        "execution": {
          "iopub.status.busy": "2022-12-25T04:16:04.476701Z",
          "iopub.execute_input": "2022-12-25T04:16:04.477109Z",
          "iopub.status.idle": "2022-12-25T04:16:04.48806Z",
          "shell.execute_reply.started": "2022-12-25T04:16:04.477075Z",
          "shell.execute_reply": "2022-12-25T04:16:04.485977Z"
        },
        "trusted": true,
        "id": "dtymGsZrNZm4"
      },
      "execution_count": 36,
      "outputs": []
    },
    {
      "cell_type": "markdown",
      "source": [
        "### Model"
      ],
      "metadata": {
        "id": "yLSTvaOJNZm4"
      }
    },
    {
      "cell_type": "code",
      "source": [
        "model = MultiOutputClassifier(AdaBoostClassifier(base_estimator=RandomForestClassifier()))\n",
        "\n",
        "param_distributions = {\n",
        "    \"estimator__learning_rate\": uniform(0.01, 1.0),\n",
        "    \"estimator__n_estimators\": [50, 100, 150],\n",
        "    \"estimator__base_estimator__n_estimators\": [100, 200, 300, 400],\n",
        "    \"estimator__base_estimator__criterion\": ['gini', 'entropy']\n",
        "}\n",
        "\n",
        "random_search = RandomizedSearchCV(model, param_distributions, cv=3, scoring=\"f1_weighted\", return_train_score=True, n_iter=20)\n",
        "\n",
        "random_search.fit(X_train, y_b_train)\n",
        "\n",
        "print(random_search.best_params_)\n",
        "\n",
        "best_model = random_search.best_estimator_"
      ],
      "metadata": {
        "execution": {
          "iopub.status.busy": "2022-12-25T04:16:07.510004Z",
          "iopub.execute_input": "2022-12-25T04:16:07.510455Z",
          "iopub.status.idle": "2022-12-25T04:19:54.966938Z",
          "shell.execute_reply.started": "2022-12-25T04:16:07.510418Z",
          "shell.execute_reply": "2022-12-25T04:19:54.965581Z"
        },
        "trusted": true,
        "colab": {
          "base_uri": "https://localhost:8080/"
        },
        "id": "BU9QveKENZm4",
        "outputId": "6b9da507-f2f5-4c0f-cc33-8348ceb65584"
      },
      "execution_count": 37,
      "outputs": [
        {
          "output_type": "stream",
          "name": "stdout",
          "text": [
            "{'estimator__base_estimator__criterion': 'entropy', 'estimator__base_estimator__n_estimators': 200, 'estimator__learning_rate': 0.4030983796807208, 'estimator__n_estimators': 50}\n"
          ]
        }
      ]
    },
    {
      "cell_type": "code",
      "source": [
        "best_model.fit(X_train, y_b_train)\n",
        "\n",
        "y_pred = best_model.predict(X_test)"
      ],
      "metadata": {
        "execution": {
          "iopub.status.busy": "2022-12-25T04:23:31.443615Z",
          "iopub.execute_input": "2022-12-25T04:23:31.444005Z",
          "iopub.status.idle": "2022-12-25T04:23:37.800542Z",
          "shell.execute_reply.started": "2022-12-25T04:23:31.443975Z",
          "shell.execute_reply": "2022-12-25T04:23:37.799316Z"
        },
        "trusted": true,
        "id": "_m0koElZNZm4"
      },
      "execution_count": 38,
      "outputs": []
    },
    {
      "cell_type": "code",
      "source": [
        "y_pred[:5]"
      ],
      "metadata": {
        "execution": {
          "iopub.status.busy": "2022-12-25T04:23:45.976834Z",
          "iopub.execute_input": "2022-12-25T04:23:45.977253Z",
          "iopub.status.idle": "2022-12-25T04:23:45.985961Z",
          "shell.execute_reply.started": "2022-12-25T04:23:45.977217Z",
          "shell.execute_reply": "2022-12-25T04:23:45.984525Z"
        },
        "trusted": true,
        "colab": {
          "base_uri": "https://localhost:8080/"
        },
        "id": "tgMcDXR5NZm5",
        "outputId": "f3f4dd98-01f4-4928-b04a-45a08044d92f"
      },
      "execution_count": 39,
      "outputs": [
        {
          "output_type": "execute_result",
          "data": {
            "text/plain": [
              "array([[1, 0, 0, 0],\n",
              "       [1, 1, 1, 1],\n",
              "       [1, 0, 0, 0],\n",
              "       [1, 1, 0, 0],\n",
              "       [1, 0, 0, 0]])"
            ]
          },
          "metadata": {},
          "execution_count": 39
        }
      ]
    },
    {
      "cell_type": "code",
      "source": [
        "y_b_test[:5]"
      ],
      "metadata": {
        "execution": {
          "iopub.status.busy": "2022-12-25T04:23:47.871267Z",
          "iopub.execute_input": "2022-12-25T04:23:47.871855Z",
          "iopub.status.idle": "2022-12-25T04:23:47.880957Z",
          "shell.execute_reply.started": "2022-12-25T04:23:47.871805Z",
          "shell.execute_reply": "2022-12-25T04:23:47.88003Z"
        },
        "trusted": true,
        "colab": {
          "base_uri": "https://localhost:8080/"
        },
        "id": "fmOno_P0NZm5",
        "outputId": "7d76bfcd-6d0b-4dad-a734-d18d40cb7940"
      },
      "execution_count": 40,
      "outputs": [
        {
          "output_type": "execute_result",
          "data": {
            "text/plain": [
              "array([[0, 0, 0, 0],\n",
              "       [0, 0, 1, 1],\n",
              "       [1, 0, 1, 0],\n",
              "       [1, 0, 0, 1],\n",
              "       [0, 1, 0, 0]])"
            ]
          },
          "metadata": {},
          "execution_count": 40
        }
      ]
    },
    {
      "cell_type": "markdown",
      "source": [
        "### Model 1B Evaluation"
      ],
      "metadata": {
        "id": "o2RnRBSVNZm5"
      }
    },
    {
      "cell_type": "code",
      "source": [
        "base_estimator = best_model.estimators_[0]\n",
        "feature_importances = base_estimator.feature_importances_\n",
        "\n",
        "feature_importances"
      ],
      "metadata": {
        "execution": {
          "iopub.status.busy": "2022-12-25T04:23:52.427607Z",
          "iopub.execute_input": "2022-12-25T04:23:52.428003Z",
          "iopub.status.idle": "2022-12-25T04:23:52.477228Z",
          "shell.execute_reply.started": "2022-12-25T04:23:52.427961Z",
          "shell.execute_reply": "2022-12-25T04:23:52.475984Z"
        },
        "trusted": true,
        "colab": {
          "base_uri": "https://localhost:8080/"
        },
        "id": "DBzh-2SuNZm5",
        "outputId": "782fd272-8e4a-489d-fada-52cec37270a0"
      },
      "execution_count": 41,
      "outputs": [
        {
          "output_type": "execute_result",
          "data": {
            "text/plain": [
              "array([0.0072744 , 0.00814782, 0.0097565 , 0.00931733, 0.00540352,\n",
              "       0.00322558, 0.00558339, 0.00285817, 0.00122516, 0.00449271,\n",
              "       0.00281799, 0.00339371, 0.00052625, 0.0012845 , 0.00647942,\n",
              "       0.00845717, 0.00479324, 0.0053759 , 0.01091739, 0.00538113,\n",
              "       0.00973429, 0.01076863, 0.01008647, 0.01279706, 0.00882464,\n",
              "       0.00878655, 0.01207772, 0.01126529, 0.00755765, 0.00423196,\n",
              "       0.01123441, 0.01048542, 0.00806958, 0.00725332, 0.01331842,\n",
              "       0.01117993, 0.00820246, 0.00705966, 0.00856441, 0.00836253,\n",
              "       0.00484738, 0.00139614, 0.00923928, 0.01125801, 0.00975201,\n",
              "       0.00739508, 0.01113636, 0.01114686, 0.00955907, 0.00576669,\n",
              "       0.01173485, 0.00930847, 0.00678303, 0.00611266, 0.01077923,\n",
              "       0.00961587, 0.00637693, 0.00280262, 0.01019488, 0.01140357,\n",
              "       0.00917941, 0.00792294, 0.01398104, 0.00958775, 0.01137474,\n",
              "       0.0075531 , 0.00785316, 0.00990626, 0.01182117, 0.00993264,\n",
              "       0.00946265, 0.01097923, 0.01116792, 0.00820795, 0.01191839,\n",
              "       0.01033132, 0.01069526, 0.00666946, 0.00645035, 0.00938067,\n",
              "       0.01163266, 0.01208138, 0.01089027, 0.01247845, 0.01155753,\n",
              "       0.00746174, 0.01104063, 0.00968482, 0.01188046, 0.01413214,\n",
              "       0.00159481, 0.00585548, 0.00689437, 0.00740093, 0.00185439,\n",
              "       0.01022878, 0.00681607, 0.00892017, 0.0079843 , 0.06753854,\n",
              "       0.06372803, 0.04078791])"
            ]
          },
          "metadata": {},
          "execution_count": 41
        }
      ]
    },
    {
      "cell_type": "code",
      "source": [
        "report = multi_classification_report(y_test, y_pred)\n",
        "print(report)"
      ],
      "metadata": {
        "execution": {
          "iopub.status.busy": "2022-12-25T04:23:55.995687Z",
          "iopub.execute_input": "2022-12-25T04:23:55.996118Z",
          "iopub.status.idle": "2022-12-25T04:23:56.021325Z",
          "shell.execute_reply.started": "2022-12-25T04:23:55.996082Z",
          "shell.execute_reply": "2022-12-25T04:23:56.020032Z"
        },
        "trusted": true,
        "colab": {
          "base_uri": "https://localhost:8080/"
        },
        "id": "TCKSqH7jNZm5",
        "outputId": "e479241d-523d-49f2-fdb4-caf8d37c80d7"
      },
      "execution_count": 42,
      "outputs": [
        {
          "output_type": "stream",
          "name": "stdout",
          "text": [
            "Precision: 0.06863\n",
            "Recall: 0.18636\n",
            "F1 score: 0.09610\n",
            "Support: [0.9064935064935066, 0.8093502593502593, 0.671900826446281, 0.5958833619210978]\n",
            "\n"
          ]
        }
      ]
    },
    {
      "cell_type": "code",
      "source": [
        "jscore(y_test, y_pred)"
      ],
      "metadata": {
        "execution": {
          "iopub.status.busy": "2022-12-25T04:23:59.82003Z",
          "iopub.execute_input": "2022-12-25T04:23:59.820408Z",
          "iopub.status.idle": "2022-12-25T04:23:59.831668Z",
          "shell.execute_reply.started": "2022-12-25T04:23:59.820379Z",
          "shell.execute_reply": "2022-12-25T04:23:59.830404Z"
        },
        "trusted": true,
        "colab": {
          "base_uri": "https://localhost:8080/"
        },
        "id": "kxwP6EnrNZm5",
        "outputId": "9744c4e8-fa61-4872-fcb8-3d8f911dfe1f"
      },
      "execution_count": 43,
      "outputs": [
        {
          "output_type": "stream",
          "name": "stdout",
          "text": [
            "Avg Jaccard similarity coefficient: 0.06097\n"
          ]
        }
      ]
    },
    {
      "cell_type": "markdown",
      "source": [
        "### Saving Model1B"
      ],
      "metadata": {
        "id": "BBWRfUylNZm5"
      }
    },
    {
      "cell_type": "code",
      "source": [
        "with open('modelb.pkl', 'wb') as f:\n",
        "    pickle.dump(best_model, f)"
      ],
      "metadata": {
        "execution": {
          "iopub.status.busy": "2022-12-25T04:26:24.707889Z",
          "iopub.execute_input": "2022-12-25T04:26:24.708289Z",
          "iopub.status.idle": "2022-12-25T04:26:24.878514Z",
          "shell.execute_reply.started": "2022-12-25T04:26:24.708258Z",
          "shell.execute_reply": "2022-12-25T04:26:24.877564Z"
        },
        "trusted": true,
        "id": "_XXCKjE9NZm5"
      },
      "execution_count": 44,
      "outputs": []
    },
    {
      "cell_type": "markdown",
      "source": [
        "# Model 2: Complete Rankings, LazyPredict + XGBoost\n",
        "Now, we will create 4 individual models for each MH category, before wrapping them in MultiOutputClassifier(). <br/>"
      ],
      "metadata": {
        "id": "2G55mIKNNZm6"
      }
    },
    {
      "cell_type": "code",
      "source": [
        "!pip install lazypredict"
      ],
      "metadata": {
        "execution": {
          "iopub.status.busy": "2022-12-25T04:27:00.526547Z",
          "iopub.execute_input": "2022-12-25T04:27:00.527031Z",
          "iopub.status.idle": "2022-12-25T04:27:14.033271Z",
          "shell.execute_reply.started": "2022-12-25T04:27:00.526998Z",
          "shell.execute_reply": "2022-12-25T04:27:14.031715Z"
        },
        "trusted": true,
        "colab": {
          "base_uri": "https://localhost:8080/"
        },
        "id": "Y5dpCqsFNZm6",
        "outputId": "77c51529-b4ef-4d54-a019-3d1280fa5db0"
      },
      "execution_count": 45,
      "outputs": [
        {
          "output_type": "stream",
          "name": "stdout",
          "text": [
            "Looking in indexes: https://pypi.org/simple, https://us-python.pkg.dev/colab-wheels/public/simple/\n",
            "Collecting lazypredict\n",
            "  Downloading lazypredict-0.2.12-py2.py3-none-any.whl (12 kB)\n",
            "Requirement already satisfied: scikit-learn in /usr/local/lib/python3.9/dist-packages (from lazypredict) (1.2.2)\n",
            "Requirement already satisfied: click in /usr/local/lib/python3.9/dist-packages (from lazypredict) (8.1.3)\n",
            "Requirement already satisfied: xgboost in /usr/local/lib/python3.9/dist-packages (from lazypredict) (1.7.4)\n",
            "Requirement already satisfied: joblib in /usr/local/lib/python3.9/dist-packages (from lazypredict) (1.1.1)\n",
            "Requirement already satisfied: lightgbm in /usr/local/lib/python3.9/dist-packages (from lazypredict) (3.3.5)\n",
            "Requirement already satisfied: pandas in /usr/local/lib/python3.9/dist-packages (from lazypredict) (1.4.4)\n",
            "Requirement already satisfied: tqdm in /usr/local/lib/python3.9/dist-packages (from lazypredict) (4.65.0)\n",
            "Requirement already satisfied: numpy in /usr/local/lib/python3.9/dist-packages (from lightgbm->lazypredict) (1.22.4)\n",
            "Requirement already satisfied: wheel in /usr/local/lib/python3.9/dist-packages (from lightgbm->lazypredict) (0.40.0)\n",
            "Requirement already satisfied: scipy in /usr/local/lib/python3.9/dist-packages (from lightgbm->lazypredict) (1.10.1)\n",
            "Requirement already satisfied: threadpoolctl>=2.0.0 in /usr/local/lib/python3.9/dist-packages (from scikit-learn->lazypredict) (3.1.0)\n",
            "Requirement already satisfied: python-dateutil>=2.8.1 in /usr/local/lib/python3.9/dist-packages (from pandas->lazypredict) (2.8.2)\n",
            "Requirement already satisfied: pytz>=2020.1 in /usr/local/lib/python3.9/dist-packages (from pandas->lazypredict) (2022.7.1)\n",
            "Requirement already satisfied: six>=1.5 in /usr/local/lib/python3.9/dist-packages (from python-dateutil>=2.8.1->pandas->lazypredict) (1.16.0)\n",
            "Installing collected packages: lazypredict\n",
            "Successfully installed lazypredict-0.2.12\n"
          ]
        }
      ]
    },
    {
      "cell_type": "code",
      "source": [
        "def clean(y2):\n",
        "    # separate labels and features\n",
        "    X = df.drop(['Depression', 'Anxiety', 'Insomnia', 'OCD'], axis=1)\n",
        "    \n",
        "    # split train and test\n",
        "    X_train2, X_test2, y_train2, y_test2 = train_test_split(X, y2, test_size=0.15, stratify=df['Fav genre'], random_state=42)\n",
        "\n",
        "    # pipeline    \n",
        "    X_train2 = full_pipeline.fit_transform(X_train2)\n",
        "    X_test2 = full_pipeline.fit_transform(X_test2)\n",
        "\n",
        "    X_train2 = X_train2.toarray()\n",
        "    X_test2 = X_test2.toarray()\n",
        "    \n",
        "    return X_train2, X_test2, y_train2, y_test2"
      ],
      "metadata": {
        "execution": {
          "iopub.status.busy": "2022-12-25T04:27:14.035745Z",
          "iopub.execute_input": "2022-12-25T04:27:14.036363Z",
          "iopub.status.idle": "2022-12-25T04:27:14.045322Z",
          "shell.execute_reply.started": "2022-12-25T04:27:14.036322Z",
          "shell.execute_reply": "2022-12-25T04:27:14.043216Z"
        },
        "trusted": true,
        "id": "IOBG5Y9ANZm6"
      },
      "execution_count": 46,
      "outputs": []
    },
    {
      "cell_type": "code",
      "source": [
        "from lazypredict.Supervised import LazyClassifier\n",
        "clf = LazyClassifier(verbose=0,ignore_warnings=True, custom_metric=None)\n",
        "\n",
        "def lazy_predict(X_train2, X_test2, y_train2, y_test2):\n",
        "  \n",
        "    models, predictions = clf.fit(X_train2, X_test2, y_train2, y_test2)\n",
        "    \n",
        "    results_df = pd.DataFrame(models)\n",
        "    results_df = results_df[[\"F1 Score\", \"Balanced Accuracy\", \"Time Taken\"]]\n",
        "    results_df = results_df.sort_values(by='F1 Score', ascending=False)\n",
        "    print(results_df[:5])"
      ],
      "metadata": {
        "execution": {
          "iopub.status.busy": "2022-12-25T04:27:16.718157Z",
          "iopub.execute_input": "2022-12-25T04:27:16.718531Z",
          "iopub.status.idle": "2022-12-25T04:27:18.428952Z",
          "shell.execute_reply.started": "2022-12-25T04:27:16.718501Z",
          "shell.execute_reply": "2022-12-25T04:27:18.427891Z"
        },
        "trusted": true,
        "id": "iHzTY-7XNZm6"
      },
      "execution_count": 47,
      "outputs": []
    },
    {
      "cell_type": "code",
      "source": [
        "from sklearn.metrics import f1_score\n",
        "from sklearn.metrics import classification_report\n",
        "from xgboost import XGBClassifier\n",
        "\n",
        "xgb_model = XGBClassifier()\n",
        "\n",
        "def xg(X_train2, X_test2, y_train2, y_test2):\n",
        "    \n",
        "    xgb_model.fit(X_train2, y_train2)   \n",
        "    print(classification_report(y_test2, xgb_model.predict(X_test2)))\n",
        "       \n",
        "    f1 = f1_score(y_test2, xgb_model.predict(X_test2), average='weighted')\n",
        "    print(f\"F1 score: {f1:.2f}\")"
      ],
      "metadata": {
        "execution": {
          "iopub.status.busy": "2022-12-25T04:27:19.873817Z",
          "iopub.execute_input": "2022-12-25T04:27:19.874266Z",
          "iopub.status.idle": "2022-12-25T04:27:19.88149Z",
          "shell.execute_reply.started": "2022-12-25T04:27:19.874228Z",
          "shell.execute_reply": "2022-12-25T04:27:19.880143Z"
        },
        "trusted": true,
        "id": "uhLqkE-yNZm6"
      },
      "execution_count": 48,
      "outputs": []
    },
    {
      "cell_type": "markdown",
      "source": [
        "### Anxiety models"
      ],
      "metadata": {
        "id": "NzmTfPp1NZm6"
      }
    },
    {
      "cell_type": "code",
      "source": [
        "lazy_predict(*clean(df['Anxiety']))"
      ],
      "metadata": {
        "execution": {
          "iopub.status.busy": "2022-12-25T04:27:23.337454Z",
          "iopub.execute_input": "2022-12-25T04:27:23.337983Z",
          "iopub.status.idle": "2022-12-25T04:27:36.036068Z",
          "shell.execute_reply.started": "2022-12-25T04:27:23.337945Z",
          "shell.execute_reply": "2022-12-25T04:27:36.03479Z"
        },
        "trusted": true,
        "colab": {
          "base_uri": "https://localhost:8080/"
        },
        "id": "k0cC78ZoNZm6",
        "outputId": "b4b520ab-4b0f-4488-aad5-77521a759e97"
      },
      "execution_count": 49,
      "outputs": [
        {
          "output_type": "stream",
          "name": "stderr",
          "text": [
            "100%|██████████| 29/29 [00:36<00:00,  1.26s/it]"
          ]
        },
        {
          "output_type": "stream",
          "name": "stdout",
          "text": [
            "                        F1 Score  Balanced Accuracy  Time Taken\n",
            "Model                                                          \n",
            "LinearSVC                   0.13               0.12        2.08\n",
            "LogisticRegression          0.13               0.12        0.47\n",
            "LGBMClassifier              0.12               0.13        1.71\n",
            "AdaBoostClassifier          0.12               0.13        0.26\n",
            "DecisionTreeClassifier      0.12               0.11        0.03\n"
          ]
        },
        {
          "output_type": "stream",
          "name": "stderr",
          "text": [
            "\n"
          ]
        }
      ]
    },
    {
      "cell_type": "code",
      "source": [
        "xg(*clean(df['Anxiety']))"
      ],
      "metadata": {
        "execution": {
          "iopub.status.busy": "2022-12-25T04:27:38.682642Z",
          "iopub.execute_input": "2022-12-25T04:27:38.683051Z",
          "iopub.status.idle": "2022-12-25T04:27:40.888953Z",
          "shell.execute_reply.started": "2022-12-25T04:27:38.683017Z",
          "shell.execute_reply": "2022-12-25T04:27:40.887859Z"
        },
        "trusted": true,
        "colab": {
          "base_uri": "https://localhost:8080/"
        },
        "id": "j0rWuU3VNZm7",
        "outputId": "63d06143-67e2-434c-c467-312838b5ad7b"
      },
      "execution_count": 50,
      "outputs": [
        {
          "output_type": "stream",
          "name": "stdout",
          "text": [
            "              precision    recall  f1-score   support\n",
            "\n",
            "         0.0       0.00      0.00      0.00         8\n",
            "         1.0       0.17      0.25      0.20         4\n",
            "         2.0       0.25      0.09      0.13        11\n",
            "         3.0       0.08      0.06      0.07        16\n",
            "         4.0       0.00      0.00      0.00         8\n",
            "         5.0       0.00      0.00      0.00         6\n",
            "         6.0       0.08      0.06      0.07        17\n",
            "         7.0       0.17      0.24      0.20        17\n",
            "         8.0       0.21      0.50      0.29        10\n",
            "         9.0       0.00      0.00      0.00         5\n",
            "        10.0       0.11      0.12      0.12         8\n",
            "\n",
            "    accuracy                           0.13       110\n",
            "   macro avg       0.10      0.12      0.10       110\n",
            "weighted avg       0.11      0.13      0.11       110\n",
            "\n",
            "F1 score: 0.11\n"
          ]
        }
      ]
    },
    {
      "cell_type": "markdown",
      "source": [
        "### Depression models"
      ],
      "metadata": {
        "id": "e0xCMONuNZm7"
      }
    },
    {
      "cell_type": "code",
      "source": [
        "lazy_predict(*clean(df['Depression']))"
      ],
      "metadata": {
        "execution": {
          "iopub.status.busy": "2022-12-25T04:27:44.028621Z",
          "iopub.execute_input": "2022-12-25T04:27:44.029051Z",
          "iopub.status.idle": "2022-12-25T04:27:57.101583Z",
          "shell.execute_reply.started": "2022-12-25T04:27:44.029018Z",
          "shell.execute_reply": "2022-12-25T04:27:57.100382Z"
        },
        "trusted": true,
        "colab": {
          "base_uri": "https://localhost:8080/"
        },
        "id": "Ox0vhlLtNZm7",
        "outputId": "0ae7090a-f553-4177-b269-3925c227e13d"
      },
      "execution_count": 51,
      "outputs": [
        {
          "output_type": "stream",
          "name": "stdout",
          "text": [
            "'tuple' object has no attribute '__name__'\n",
            "Invalid Classifier(s)\n"
          ]
        },
        {
          "output_type": "stream",
          "name": "stderr",
          "text": [
            "100%|██████████| 29/29 [00:13<00:00,  2.23it/s]"
          ]
        },
        {
          "output_type": "stream",
          "name": "stdout",
          "text": [
            "                        F1 Score  Balanced Accuracy  Time Taken\n",
            "Model                                                          \n",
            "DecisionTreeClassifier      0.16               0.14        0.02\n",
            "NuSVC                       0.16               0.11        0.14\n",
            "BaggingClassifier           0.15               0.12        0.10\n",
            "ExtraTreeClassifier         0.14               0.15        0.02\n",
            "SVC                         0.14               0.11        0.09\n"
          ]
        },
        {
          "output_type": "stream",
          "name": "stderr",
          "text": [
            "\n"
          ]
        }
      ]
    },
    {
      "cell_type": "code",
      "source": [
        "xg(*clean(df['Depression']))"
      ],
      "metadata": {
        "execution": {
          "iopub.status.busy": "2022-12-25T04:28:01.076416Z",
          "iopub.execute_input": "2022-12-25T04:28:01.077135Z",
          "iopub.status.idle": "2022-12-25T04:28:03.31467Z",
          "shell.execute_reply.started": "2022-12-25T04:28:01.077096Z",
          "shell.execute_reply": "2022-12-25T04:28:03.313746Z"
        },
        "trusted": true,
        "colab": {
          "base_uri": "https://localhost:8080/"
        },
        "id": "hd1NAZNPNZm7",
        "outputId": "002940a9-7d04-4537-b414-5cdc7c8828ed"
      },
      "execution_count": 52,
      "outputs": [
        {
          "output_type": "stream",
          "name": "stdout",
          "text": [
            "              precision    recall  f1-score   support\n",
            "\n",
            "         0.0       0.44      0.20      0.28        20\n",
            "         1.0       0.00      0.00      0.00         7\n",
            "         2.0       0.12      0.12      0.12        17\n",
            "         3.0       0.10      0.08      0.09        13\n",
            "         4.0       0.08      0.12      0.10         8\n",
            "         5.0       0.00      0.00      0.00         7\n",
            "         6.0       0.05      0.14      0.07         7\n",
            "         7.0       0.17      0.18      0.17        11\n",
            "         8.0       0.00      0.00      0.00         9\n",
            "         9.0       0.00      0.00      0.00         5\n",
            "        10.0       0.17      0.17      0.17         6\n",
            "\n",
            "    accuracy                           0.11       110\n",
            "   macro avg       0.10      0.09      0.09       110\n",
            "weighted avg       0.15      0.11      0.12       110\n",
            "\n",
            "F1 score: 0.12\n"
          ]
        }
      ]
    },
    {
      "cell_type": "markdown",
      "source": [
        "### Insomnia model"
      ],
      "metadata": {
        "id": "LRyzkAD-NZm7"
      }
    },
    {
      "cell_type": "code",
      "source": [
        "lazy_predict(*clean(df['Insomnia']))"
      ],
      "metadata": {
        "execution": {
          "iopub.status.busy": "2022-12-25T04:28:06.709149Z",
          "iopub.execute_input": "2022-12-25T04:28:06.709565Z",
          "iopub.status.idle": "2022-12-25T04:28:19.786315Z",
          "shell.execute_reply.started": "2022-12-25T04:28:06.709531Z",
          "shell.execute_reply": "2022-12-25T04:28:19.785271Z"
        },
        "trusted": true,
        "colab": {
          "base_uri": "https://localhost:8080/"
        },
        "id": "Nb9JBGmYNZm7",
        "outputId": "5a675181-8f5d-4015-ae22-25feeda77401"
      },
      "execution_count": 53,
      "outputs": [
        {
          "output_type": "stream",
          "name": "stdout",
          "text": [
            "'tuple' object has no attribute '__name__'\n",
            "Invalid Classifier(s)\n"
          ]
        },
        {
          "output_type": "stream",
          "name": "stderr",
          "text": [
            "100%|██████████| 29/29 [00:12<00:00,  2.28it/s]"
          ]
        },
        {
          "output_type": "stream",
          "name": "stdout",
          "text": [
            "                            F1 Score  Balanced Accuracy  Time Taken\n",
            "Model                                                              \n",
            "RandomForestClassifier          0.18               0.10        0.32\n",
            "KNeighborsClassifier            0.16               0.12        0.02\n",
            "DecisionTreeClassifier          0.15               0.12        0.02\n",
            "LinearDiscriminantAnalysis      0.15               0.13        0.07\n",
            "SGDClassifier                   0.14               0.15        0.14\n"
          ]
        },
        {
          "output_type": "stream",
          "name": "stderr",
          "text": [
            "\n"
          ]
        }
      ]
    },
    {
      "cell_type": "code",
      "source": [
        "xg(*clean(df['Insomnia']))"
      ],
      "metadata": {
        "execution": {
          "iopub.status.busy": "2022-12-25T04:28:23.470685Z",
          "iopub.execute_input": "2022-12-25T04:28:23.471103Z",
          "iopub.status.idle": "2022-12-25T04:28:25.723427Z",
          "shell.execute_reply.started": "2022-12-25T04:28:23.471066Z",
          "shell.execute_reply": "2022-12-25T04:28:25.722293Z"
        },
        "trusted": true,
        "colab": {
          "base_uri": "https://localhost:8080/"
        },
        "id": "i73somjvNZm7",
        "outputId": "98e2bf58-c873-4e76-a488-927a4fdbb576"
      },
      "execution_count": 54,
      "outputs": [
        {
          "output_type": "stream",
          "name": "stdout",
          "text": [
            "              precision    recall  f1-score   support\n",
            "\n",
            "         0.0       0.24      0.32      0.27        28\n",
            "         1.0       0.00      0.00      0.00        18\n",
            "         2.0       0.28      0.33      0.30        15\n",
            "         3.0       0.00      0.00      0.00         9\n",
            "         4.0       0.00      0.00      0.00         5\n",
            "         5.0       0.00      0.00      0.00         9\n",
            "         6.0       0.00      0.00      0.00         5\n",
            "         7.0       0.09      0.20      0.13         5\n",
            "         8.0       0.00      0.00      0.00         8\n",
            "         9.0       1.00      0.50      0.67         2\n",
            "        10.0       0.00      0.00      0.00         6\n",
            "\n",
            "    accuracy                           0.15       110\n",
            "   macro avg       0.15      0.12      0.12       110\n",
            "weighted avg       0.12      0.15      0.13       110\n",
            "\n",
            "F1 score: 0.13\n"
          ]
        }
      ]
    },
    {
      "cell_type": "markdown",
      "source": [
        "### OCD model"
      ],
      "metadata": {
        "id": "9Z-Epwa7NZm7"
      }
    },
    {
      "cell_type": "code",
      "source": [
        "lazy_predict(*clean(df['OCD']))"
      ],
      "metadata": {
        "execution": {
          "iopub.status.busy": "2022-12-25T04:28:28.436047Z",
          "iopub.execute_input": "2022-12-25T04:28:28.436865Z",
          "iopub.status.idle": "2022-12-25T04:28:41.208451Z",
          "shell.execute_reply.started": "2022-12-25T04:28:28.436818Z",
          "shell.execute_reply": "2022-12-25T04:28:41.206403Z"
        },
        "trusted": true,
        "colab": {
          "base_uri": "https://localhost:8080/"
        },
        "id": "fj55XeNYNZm8",
        "outputId": "a30e23bf-6d64-4d3d-ada9-8f7a017b5b3b"
      },
      "execution_count": 55,
      "outputs": [
        {
          "output_type": "stream",
          "name": "stdout",
          "text": [
            "'tuple' object has no attribute '__name__'\n",
            "Invalid Classifier(s)\n"
          ]
        },
        {
          "output_type": "stream",
          "name": "stderr",
          "text": [
            "100%|██████████| 29/29 [00:13<00:00,  2.16it/s]"
          ]
        },
        {
          "output_type": "stream",
          "name": "stdout",
          "text": [
            "                      F1 Score  Balanced Accuracy  Time Taken\n",
            "Model                                                        \n",
            "RidgeClassifier           0.25               0.13        0.04\n",
            "RidgeClassifierCV         0.23               0.11        0.04\n",
            "KNeighborsClassifier      0.23               0.13        0.02\n",
            "Perceptron                0.22               0.11        0.04\n",
            "LinearSVC                 0.21               0.13        1.19\n"
          ]
        },
        {
          "output_type": "stream",
          "name": "stderr",
          "text": [
            "\n"
          ]
        }
      ]
    },
    {
      "cell_type": "code",
      "source": [
        "xg(*clean(df['OCD']))"
      ],
      "metadata": {
        "execution": {
          "iopub.status.busy": "2022-12-25T04:28:45.570702Z",
          "iopub.execute_input": "2022-12-25T04:28:45.571136Z",
          "iopub.status.idle": "2022-12-25T04:28:47.684505Z",
          "shell.execute_reply.started": "2022-12-25T04:28:45.571102Z",
          "shell.execute_reply": "2022-12-25T04:28:47.683502Z"
        },
        "trusted": true,
        "colab": {
          "base_uri": "https://localhost:8080/"
        },
        "id": "Q2EtyI-0NZm8",
        "outputId": "601f1b52-db67-45f6-d82a-84a69359fb39"
      },
      "execution_count": 56,
      "outputs": [
        {
          "output_type": "stream",
          "name": "stdout",
          "text": [
            "              precision    recall  f1-score   support\n",
            "\n",
            "         0.0       0.33      0.61      0.43        38\n",
            "         1.0       0.15      0.11      0.12        19\n",
            "         2.0       0.00      0.00      0.00        15\n",
            "         3.0       0.00      0.00      0.00         8\n",
            "         4.0       0.00      0.00      0.00         5\n",
            "         5.0       0.14      0.25      0.18         4\n",
            "         6.0       0.00      0.00      0.00         7\n",
            "         7.0       0.00      0.00      0.00         3\n",
            "         8.0       0.00      0.00      0.00         6\n",
            "         9.0       0.00      0.00      0.00         2\n",
            "        10.0       0.00      0.00      0.00         3\n",
            "\n",
            "    accuracy                           0.24       110\n",
            "   macro avg       0.06      0.09      0.07       110\n",
            "weighted avg       0.15      0.24      0.18       110\n",
            "\n",
            "F1 score: 0.18\n"
          ]
        }
      ]
    },
    {
      "cell_type": "markdown",
      "source": [
        "# Reflection\n",
        "\n",
        "**Model1**\n",
        "\n",
        "This was my first experience building a model that was wrapped like this! It was also my first time building a multiclass multioutput model (outside of studying or following tutorials).\n",
        "\n",
        "While I did expect poor performance, I was disappointed with the evaluation results for both Model1A and Model1B. This could suggest that no significant trend with high predictive power exists in the data. However, it is also possible that the model architecture I selected was not the optimal fit for this task. \n",
        "\n",
        "I also found it surprisingly that condensing the labels to a binary classification task (1B) did not lead to improvement in performance.\n",
        "\n",
        "\n",
        "**Model2**\n",
        "\n",
        "Next, I considered the case that a single model was not suitable in predicting all four MH categories. In Model2, I decided to use 4 different models for each MH category. I used Lazy Predict for the first time to quickly test many different models' performance. I also compared the performace with XGBoost. The optimal models varied for each MH category. These insights could inform what estimators to use for an ensemble learning approach.\n",
        "\n",
        "However, like Model1, this approach did not yield promising F1 or Jaccard scores.\n",
        "\n",
        "**Conclusion**\n",
        "\n",
        "The most meaningful conclusions from this dataset can be derived from the EDA NB. This notebook suggests that we cannot reliably predict mental health rankings from music taste alone.\n",
        "\n",
        "However, I am curious to see how neural networks might on this data anyway. I plan to run another notebook to check for a significant change in performance. After experimenting with a deep learning approach, my next steps will be comparing performance between these models, and deploying the highest scoring model."
      ],
      "metadata": {
        "id": "ct8erCCeNZm8"
      }
    },
    {
      "cell_type": "code",
      "source": [],
      "metadata": {
        "id": "9q9vJlAWVx14"
      },
      "execution_count": null,
      "outputs": []
    }
  ]
}